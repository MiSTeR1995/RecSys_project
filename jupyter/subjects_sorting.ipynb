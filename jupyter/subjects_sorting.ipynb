{
 "cells": [
  {
   "cell_type": "markdown",
   "id": "c361163e-5882-4d50-85a3-56cb41c25c59",
   "metadata": {},
   "source": [
    "## Сортировка дисциплин"
   ]
  },
  {
   "cell_type": "markdown",
   "id": "7bf272d1-f6b7-4fe9-a371-a096abe03d33",
   "metadata": {},
   "source": [
    "### Версия Python"
   ]
  },
  {
   "cell_type": "code",
   "execution_count": 1,
   "id": "2a7126bc-1dec-4d6f-91c3-fa7895a61d09",
   "metadata": {},
   "outputs": [
    {
     "name": "stdout",
     "output_type": "stream",
     "text": [
      "Python 3.12.6\n"
     ]
    }
   ],
   "source": [
    "!python -V"
   ]
  },
  {
   "cell_type": "markdown",
   "id": "d5371208-6648-4c0a-8e7c-e98237e52c9b",
   "metadata": {},
   "source": [
    "### Импорт необходимых библиотек"
   ]
  },
  {
   "cell_type": "code",
   "execution_count": 19,
   "id": "b75a8cc4-db2e-4b8f-88c5-5d25c2091f08",
   "metadata": {},
   "outputs": [],
   "source": [
    "# Подавление предупреждений\n",
    "import warnings\n",
    "for warn in [UserWarning, FutureWarning]: warnings.filterwarnings(\"ignore\", category = warn)\n",
    "\n",
    "import os\n",
    "import re\n",
    "import jupyterlab as jlab\n",
    "import ipywidgets\n",
    "import pandas as pd\n",
    "import tqdm as tq\n",
    "import shutil\n",
    "import glob\n",
    "\n",
    "from pathlib import Path\n",
    "from tqdm import tqdm"
   ]
  },
  {
   "cell_type": "markdown",
   "id": "884ee08d-ca65-40f9-bf11-4b6e9c16a512",
   "metadata": {},
   "source": [
    "### Версии необходимых библиотек"
   ]
  },
  {
   "cell_type": "code",
   "execution_count": 20,
   "id": "1e7dc84d-62b9-422b-a5ce-b2391b253a32",
   "metadata": {},
   "outputs": [
    {
     "data": {
      "text/html": [
       "<div><style>\n",
       ".dataframe > thead > tr,\n",
       ".dataframe > tbody > tr {\n",
       "  text-align: right;\n",
       "  white-space: pre-wrap;\n",
       "}\n",
       "</style>\n",
       "<small>shape: (4, 3)</small><table border=\"1\" class=\"dataframe\"><thead><tr><th>№</th><th>Библиотека</th><th>Версия</th></tr><tr><td>i64</td><td>str</td><td>str</td></tr></thead><tbody><tr><td>1</td><td>&quot;Pandas&quot;</td><td>&quot;2.2.3&quot;</td></tr><tr><td>2</td><td>&quot;Ipywidgets&quot;</td><td>&quot;8.1.5&quot;</td></tr><tr><td>3</td><td>&quot;JupyterLab&quot;</td><td>&quot;4.2.5&quot;</td></tr><tr><td>4</td><td>&quot;Tqdm&quot;</td><td>&quot;4.66.5&quot;</td></tr></tbody></table></div>"
      ],
      "text/plain": [
       "shape: (4, 3)\n",
       "┌─────┬────────────┬────────┐\n",
       "│ №   ┆ Библиотека ┆ Версия │\n",
       "│ --- ┆ ---        ┆ ---    │\n",
       "│ i64 ┆ str        ┆ str    │\n",
       "╞═════╪════════════╪════════╡\n",
       "│ 1   ┆ Pandas     ┆ 2.2.3  │\n",
       "│ 2   ┆ Ipywidgets ┆ 8.1.5  │\n",
       "│ 3   ┆ JupyterLab ┆ 4.2.5  │\n",
       "│ 4   ┆ Tqdm       ┆ 4.66.5 │\n",
       "└─────┴────────────┴────────┘"
      ]
     },
     "metadata": {},
     "output_type": "display_data"
    }
   ],
   "source": [
    "packages = [\n",
    "    \"Pandas\", \"Ipywidgets\", \"JupyterLab\", \"Tqdm\"\n",
    "]\n",
    "\n",
    "package_objects = [\n",
    "    pd, ipywidgets, jlab, tq\n",
    "]\n",
    "\n",
    "versions = list(map(lambda obj: obj.__version__, package_objects))\n",
    "\n",
    "columns_order = [\"№\", \"Библиотека\", \"Версия\"]\n",
    "df_pkgs = (\n",
    "    pl.DataFrame({\n",
    "        columns_order[1]: packages,\n",
    "        columns_order[2]: versions\n",
    "    })\n",
    "    .with_columns(pl.arange(1, pl.lit(len(packages)) + 1).alias(columns_order[0]))\n",
    "    .select(columns_order)\n",
    ")\n",
    "\n",
    "display(df_pkgs)\n",
    "\n",
    "path_to_reqs = \".\"\n",
    "reqs_name = \"requirements.txt\"\n",
    "\n",
    "def get_packages_and_versions():\n",
    "    \"\"\"Генерация строк с библиотеками и их версиями в формате: библиотека==версия\"\"\"\n",
    "    \n",
    "    for package, version in zip(packages, versions):\n",
    "        yield f\"{package.lower()}=={version}\\n\"\n",
    "\n",
    "with open(os.path.join(path_to_reqs, reqs_name), \"w\", encoding = \"utf-8\") as f:\n",
    "    f.writelines(get_packages_and_versions())"
   ]
  },
  {
   "cell_type": "markdown",
   "id": "a440ed80-d205-4469-afef-fa8d1d784c41",
   "metadata": {},
   "source": [
    "### Чтение ПУДов"
   ]
  },
  {
   "cell_type": "code",
   "execution_count": 21,
   "id": "9c22e296-25aa-4134-8581-5acd078336c7",
   "metadata": {},
   "outputs": [],
   "source": [
    "path_to_files = \"/Users/dl/GitHub/ArenaVSRS/data/subjects\"\n",
    "\n",
    "xlsx_files = glob.glob(os.path.join(path_to_files, \"*.xlsx\"))\n",
    "\n",
    "df_x = pd.DataFrame()\n",
    "\n",
    "for file in xlsx_files:\n",
    "    df_temp = pd.read_excel(file)\n",
    "    df_x = pd.concat([df_x, df_temp], ignore_index = True)\n",
    "\n",
    "df_x_unique = df_x.drop_duplicates(subset = [\"ID дисциплины БУП ППК (АСАВ)\"])"
   ]
  },
  {
   "cell_type": "code",
   "execution_count": 22,
   "id": "dc1e26d0-1efb-4dad-8c42-cba313a9ef07",
   "metadata": {},
   "outputs": [
    {
     "data": {
      "text/plain": [
       "36850"
      ]
     },
     "execution_count": 22,
     "metadata": {},
     "output_type": "execute_result"
    }
   ],
   "source": [
    "len(df_x_unique)"
   ]
  },
  {
   "cell_type": "code",
   "execution_count": 23,
   "id": "be0bbbe6-2a48-4b75-a163-a7cfb48d5e11",
   "metadata": {},
   "outputs": [
    {
     "data": {
      "text/plain": [
       "array(['-', 'Бакалавриат', 'Аспирантура', 'Магистратура', nan,\n",
       "       'Специалитет', 'Бакалавриат, Специалитет',\n",
       "       'Бакалавриат, Магистратура'], dtype=object)"
      ]
     },
     "execution_count": 23,
     "metadata": {},
     "output_type": "execute_result"
    }
   ],
   "source": [
    "df_x_unique['Уровень обучения'].unique()"
   ]
  },
  {
   "cell_type": "markdown",
   "id": "992f7858-235d-48e5-a76d-2fa6f0810d37",
   "metadata": {},
   "source": [
    "### Сортировка"
   ]
  },
  {
   "cell_type": "code",
   "execution_count": null,
   "id": "eb9bd593-35df-41ac-8d53-160876646219",
   "metadata": {},
   "outputs": [
    {
     "name": "stderr",
     "output_type": "stream",
     "text": [
      "Обработка CSV файлов:  22%|████████████▉                                             | 26/117 [21:10<41:28, 27.35s/файл]"
     ]
    }
   ],
   "source": [
    "# Путь к исходной и целевой директориям\n",
    "path_to_files = Path(\"/Users/dl/GitHub/ArenaVSRS/data/vacancies_subjects_association/paraphrase-multilingual-MiniLM-L12-v2\")\n",
    "save_path = Path(\"/Users/dl/GitHub/ArenaVSRS/data/vacancies_subjects_association/paraphrase-multilingual-MiniLM-L12-v2_sort\")\n",
    "\n",
    "# Приоритеты для сортировки\n",
    "priority = {\n",
    "    \"Бакалавриат\": 0,\n",
    "    \"Специалитет\": 1,\n",
    "    \"Бакалавриат, Магистратура\": 2,\n",
    "    \"Магистратура\": 3,\n",
    "    \"Аспирантура\": 4,\n",
    "    \"-\": 5,\n",
    "    \"nan\": 6 # если встречается nan\n",
    "}\n",
    "\n",
    "# Функция для извлечения числовых значений из l[-1]\n",
    "def extract_numbers(value):\n",
    "    # Извлекаем все числа\n",
    "    numbers = re.findall(r'(\\d+)\\s+\\w+', value)\n",
    "    # Если чисел нет, возвращаем специальный флаг, например, None\n",
    "    return [int(num) for num in numbers] if numbers else None\n",
    "\n",
    "# Функция для проверки перехода через год\n",
    "def is_year_transition(first_number, second_number):\n",
    "    return first_number > second_number\n",
    "\n",
    "# Кастомная функция сортировки\n",
    "def custom_sort_key(r):\n",
    "    l = r.strip().split(\"|\")\n",
    "    category = l[-2].strip() if len(l) > 1 else \"nan\"  # Категория (Бакалавриат и т.д.)\n",
    "    \n",
    "    numbers = extract_numbers(l[-1].strip())  # Извлеченные числа\n",
    "    \n",
    "    if numbers is None:\n",
    "        # Если чисел нет, отправляем строку в конец текущей категории\n",
    "        first_number, second_number, modules_sum = float('inf'), float('inf'), float('inf')\n",
    "        weight = 2  # Устанавливаем вес, чтобы такие строки шли последними\n",
    "    else:\n",
    "        first_number = numbers[0]\n",
    "        second_number = numbers[1] if len(numbers) > 1 else first_number\n",
    "        modules_sum = abs(second_number - first_number)\n",
    "        \n",
    "        # Проверяем, происходит ли переход на следующий год\n",
    "        weight = 1 if is_year_transition(first_number, second_number) else 0  # Переход на следующий год — приоритет ниже\n",
    "    \n",
    "    # Сортировка по приоритету, первому числу, весу (если есть переход) и количеству модулей\n",
    "    return (priority.get(category, 7), first_number, weight, modules_sum, second_number)\n",
    "\n",
    "# Проверка и создание/очистка целевой папки\n",
    "if save_path.exists():\n",
    "    shutil.rmtree(save_path)  # Удаляем все файлы и папки внутри\n",
    "save_path.mkdir(parents=True, exist_ok=True)  # Создаем целевую папку\n",
    "\n",
    "# Получение списка всех CSV файлов\n",
    "csv_files = list(path_to_files.rglob(\"*.csv\"))\n",
    "\n",
    "# Проходим по каждому файлу\n",
    "for file_path in tqdm(csv_files, desc=\"Обработка CSV файлов\", unit=\"файл\"):\n",
    "    # Чтение CSV файла\n",
    "    df_u = pd.read_csv(file_path, sep=';', encoding=\"utf-8-sig\")\n",
    "\n",
    "    # print(file_path)\n",
    "    \n",
    "    # Проходим по каждой строке файла\n",
    "    for index, row in df_u.iterrows():\n",
    "        # Сортировка на основе кастомного ключа\n",
    "        sorted_row = sorted(row[\"SBERT_Disciplines\"].split(\";\"), key=custom_sort_key)\n",
    "\n",
    "        # Проверяем, есть ли данные в SBERT_plus_LLM_Recommendations\n",
    "        recommendations_row = row[\"SBERT_plus_LLM_Recommendations\"]\n",
    "        \n",
    "        # Если recommendations не пустой и не NaN, выполняем сортировку\n",
    "        if isinstance(recommendations_row, str) and recommendations_row.strip() != \"\" and not pd.isna(recommendations_row):\n",
    "            recommendations = recommendations_row.split(\";\")\n",
    "            recommendations = [r.strip() for r in recommendations]\n",
    "\n",
    "            # Извлекаем названия дисциплин из sorted_row\n",
    "            discipline_names_in_sorted_row = [\n",
    "                s.split(\"|\")[1].strip() for s in sorted_row\n",
    "            ]\n",
    "        \n",
    "            # Создаем словарь, сопоставляющий названия дисциплин с их индексом в sorted_row\n",
    "            discipline_to_index = {name: i for i, name in enumerate(discipline_names_in_sorted_row)}\n",
    "        \n",
    "            # Функция для получения индекса дисциплины из словаря (или возвращения большого значения, если нет совпадения)\n",
    "            def recommendation_sort_key(rec):\n",
    "                return discipline_to_index.get(rec.strip(), float('inf'))\n",
    "        \n",
    "            # Сортируем список recommendations на основе порядка в sorted_row\n",
    "            sorted_recommendations = sorted(recommendations, key=recommendation_sort_key)\n",
    "        \n",
    "            # Проверяем, какие дисциплины из recommendations отсутствуют в sorted_row\n",
    "            missing_in_sorted_row = [rec for rec in recommendations if rec not in discipline_names_in_sorted_row]\n",
    "        \n",
    "            # Добавляем недостающие элементы в конец списка\n",
    "            sorted_recommendations.extend(missing_in_sorted_row)\n",
    "        \n",
    "            # Результат в виде строки с разделителем \"; \"\n",
    "            sorted_recommendations_str = \"; \".join(sorted_recommendations)\n",
    "\n",
    "            df_u.at[index, \"SBERT_plus_LLM_Recommendations\"] = sorted_recommendations_str\n",
    "\n",
    "        # print(discipline_names_in_sorted_row)\n",
    "        # print(sorted_recommendations)\n",
    "        \n",
    "        sorted_row = [s.strip() for s in sorted_row]\n",
    "\n",
    "        sorted_row_copy = sorted_row.copy()\n",
    "\n",
    "        for idx, s2 in enumerate(sorted_row_copy):  \n",
    "            l = s2.strip().split(\"|\")\n",
    "            df_x_unique_1 = df_x_unique[df_x_unique[\"ID дисциплины БУП ППК (АСАВ)\"] == int(l[0])]\n",
    "\n",
    "            l.append(df_x_unique_1[\"Охват аудитории\"].to_string(index=False))\n",
    "            l.append(df_x_unique_1[\"Формат изучения\"].to_string(index=False))\n",
    "\n",
    "            l = \" | \".join(list(map(str.strip, l)))\n",
    "\n",
    "            sorted_row[idx] = l\n",
    "\n",
    "        # print(sorted_row)\n",
    "        sorted_row_s = \"; \".join(sorted_row)\n",
    "\n",
    "        # print(sorted_row_s)\n",
    "\n",
    "        # Запись результата\n",
    "        df_u.at[index, \"SBERT_Disciplines\"] = sorted_row_s\n",
    "\n",
    "    # Определение пути для сохранения файла\n",
    "    save_file_path = save_path / file_path.name\n",
    "    \n",
    "    # Сохранение обработанного DataFrame в CSV\n",
    "    df_u.to_csv(save_file_path, index=False, encoding=\"utf-8-sig\", sep=\";\")"
   ]
  },
  {
   "cell_type": "code",
   "execution_count": null,
   "id": "47ab0ed6-0671-4e1a-987e-a355a9553949",
   "metadata": {},
   "outputs": [],
   "source": []
  }
 ],
 "metadata": {
  "kernelspec": {
   "display_name": "Python 3 (ipykernel)",
   "language": "python",
   "name": "python3"
  },
  "language_info": {
   "codemirror_mode": {
    "name": "ipython",
    "version": 3
   },
   "file_extension": ".py",
   "mimetype": "text/x-python",
   "name": "python",
   "nbconvert_exporter": "python",
   "pygments_lexer": "ipython3",
   "version": "3.12.6"
  }
 },
 "nbformat": 4,
 "nbformat_minor": 5
}
